{
 "cells": [
  {
   "cell_type": "code",
   "execution_count": 1,
   "id": "21bc8192",
   "metadata": {},
   "outputs": [],
   "source": [
    "#   Create Stack with min method\n",
    "\n",
    "class Node():\n",
    "    def __init__(self, value=None, next = None):\n",
    "        self.value = value\n",
    "        self.next = next\n",
    "    \n",
    "    def __str__(self):\n",
    "        string = str(self.value)\n",
    "        if self.next:\n",
    "            string += ',' + str(self.next)\n",
    "        return string\n",
    "\n",
    "class Stack():\n",
    "    def __init__(self):\n",
    "        self.top = None\n",
    "        self.minNode = None\n",
    "    \n",
    "    def min(self):\n",
    "        if not self.minNode:\n",
    "            return None\n",
    "        return self.minNode.value\n",
    "    \n",
    "    def push(self, item):\n",
    "        if self.minNode and (self.minNode.value < item):\n",
    "            self.minNode = Node(value = self.minNode.value, next=self.minNode)\n",
    "        else:\n",
    "            self.minNode = Node(value = item, next=self.minNode)\n",
    "        self.top = Node(value=item, next=self.top)\n",
    "    \n",
    "    def pop(self):\n",
    "        if not self.top:\n",
    "            return None\n",
    "        self.minNode = self.minNode.next\n",
    "        item = self.top.value\n",
    "        self.top = self.top.next\n",
    "        return item"
   ]
  },
  {
   "cell_type": "code",
   "execution_count": 2,
   "id": "4b1a293b",
   "metadata": {},
   "outputs": [
    {
     "name": "stdout",
     "output_type": "stream",
     "text": [
      "5\n"
     ]
    }
   ],
   "source": [
    "customStack = Stack()\n",
    "customStack.push(5)\n",
    "print(customStack.min())"
   ]
  },
  {
   "cell_type": "code",
   "execution_count": 3,
   "id": "4c49b7e7",
   "metadata": {},
   "outputs": [
    {
     "name": "stdout",
     "output_type": "stream",
     "text": [
      "5\n"
     ]
    }
   ],
   "source": [
    "customStack.push(6)\n",
    "print(customStack.min())"
   ]
  },
  {
   "cell_type": "code",
   "execution_count": 4,
   "id": "f8cada0b",
   "metadata": {},
   "outputs": [
    {
     "name": "stdout",
     "output_type": "stream",
     "text": [
      "3\n"
     ]
    }
   ],
   "source": [
    "customStack.push(3)\n",
    "print(customStack.min())"
   ]
  },
  {
   "cell_type": "code",
   "execution_count": 5,
   "id": "198e77a3",
   "metadata": {},
   "outputs": [
    {
     "name": "stdout",
     "output_type": "stream",
     "text": [
      "5\n"
     ]
    }
   ],
   "source": [
    "customStack.pop()\n",
    "print(customStack.min())"
   ]
  }
 ],
 "metadata": {
  "kernelspec": {
   "display_name": "Python 3 (ipykernel)",
   "language": "python",
   "name": "python3"
  },
  "language_info": {
   "codemirror_mode": {
    "name": "ipython",
    "version": 3
   },
   "file_extension": ".py",
   "mimetype": "text/x-python",
   "name": "python",
   "nbconvert_exporter": "python",
   "pygments_lexer": "ipython3",
   "version": "3.9.13"
  }
 },
 "nbformat": 4,
 "nbformat_minor": 5
}
