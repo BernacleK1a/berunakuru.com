{
 "cells": [
  {
   "cell_type": "code",
   "execution_count": 1,
   "id": "4cc7aa15",
   "metadata": {},
   "outputs": [],
   "source": [
    "# Use a single list to implement three stacks.\n",
    "\n",
    "class MultiStack:\n",
    "    def __init__(self, stacksize):\n",
    "        self.numberstacks = 3\n",
    "        self.custList = [0] * (stacksize * self.numberstacks)\n",
    "        self.sizes = [0] * self.numberstacks\n",
    "        self.stacksize = stacksize\n",
    "    \n",
    "    def isFull(self, stacknum):\n",
    "        if self.sizes[stacknum] == self.stacksize:\n",
    "            return True\n",
    "        else:\n",
    "            return False\n",
    "    \n",
    "    def isEmpty(self, stacknum):\n",
    "        if self.sizes[stacknum] == 0:\n",
    "            return True\n",
    "        else:\n",
    "            return False\n",
    "    \n",
    "    def indexOfTop(self, stacknum):\n",
    "        offset = stacknum * self.stacksize\n",
    "        return offset + self.sizes[stacknum]- 1\n",
    "    \n",
    "    def push(self, item, stacknum):\n",
    "        if self.isFull(stacknum):\n",
    "            return \"The stack is full\"\n",
    "        else:\n",
    "            self.sizes[stacknum] += 1\n",
    "            self.custList[self.indexOfTop(stacknum)] = item\n",
    "    \n",
    "    def pop(self, stacknum):\n",
    "        if self.isEmpty(stacknum):\n",
    "            return \"The stack is empty\"\n",
    "        else:\n",
    "            value = self.custList[self.indexOfTop(stacknum)]\n",
    "            self.custList[self.indexOfTop(stacknum)] = 0\n",
    "            self.sizes[stacknum] -= 1\n",
    "            return value\n",
    "    \n",
    "    def peek(self, stacknum):\n",
    "        if self.isEmpty(stacknum):\n",
    "            return \"The stack is empty\"\n",
    "        else:\n",
    "            value = self.custList[self.indexOfTop(stacknum)]\n",
    "            return value"
   ]
  },
  {
   "cell_type": "code",
   "execution_count": 2,
   "id": "06df7927",
   "metadata": {},
   "outputs": [],
   "source": [
    "customStack = MultiStack(6)"
   ]
  },
  {
   "cell_type": "code",
   "execution_count": 3,
   "id": "dc4aa21b",
   "metadata": {},
   "outputs": [
    {
     "name": "stdout",
     "output_type": "stream",
     "text": [
      "False\n"
     ]
    }
   ],
   "source": [
    "print(customStack.isFull(0))"
   ]
  },
  {
   "cell_type": "code",
   "execution_count": 4,
   "id": "62b8bcfe",
   "metadata": {},
   "outputs": [
    {
     "name": "stdout",
     "output_type": "stream",
     "text": [
      "True\n"
     ]
    }
   ],
   "source": [
    "print(customStack.isEmpty(1))"
   ]
  },
  {
   "cell_type": "code",
   "execution_count": 5,
   "id": "9a15edbf",
   "metadata": {},
   "outputs": [],
   "source": [
    "customStack.push(1, 0)"
   ]
  },
  {
   "cell_type": "code",
   "execution_count": 6,
   "id": "dabbc3f1",
   "metadata": {},
   "outputs": [],
   "source": [
    "customStack.push(2, 0)"
   ]
  },
  {
   "cell_type": "code",
   "execution_count": 7,
   "id": "a2d62bfa",
   "metadata": {},
   "outputs": [],
   "source": [
    "customStack.push(3, 2)"
   ]
  },
  {
   "cell_type": "code",
   "execution_count": 8,
   "id": "25bfe574",
   "metadata": {},
   "outputs": [
    {
     "name": "stdout",
     "output_type": "stream",
     "text": [
      "2\n"
     ]
    }
   ],
   "source": [
    "print(customStack.pop(0))"
   ]
  }
 ],
 "metadata": {
  "kernelspec": {
   "display_name": "Python 3 (ipykernel)",
   "language": "python",
   "name": "python3"
  },
  "language_info": {
   "codemirror_mode": {
    "name": "ipython",
    "version": 3
   },
   "file_extension": ".py",
   "mimetype": "text/x-python",
   "name": "python",
   "nbconvert_exporter": "python",
   "pygments_lexer": "ipython3",
   "version": "3.9.13"
  }
 },
 "nbformat": 4,
 "nbformat_minor": 5
}
